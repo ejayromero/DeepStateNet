{
 "cells": [
  {
   "cell_type": "code",
   "execution_count": 2,
   "id": "eb9f411c",
   "metadata": {},
   "outputs": [],
   "source": [
    "import matplotlib.pyplot as plt\n",
    "import numpy as np\n",
    "import os"
   ]
  },
  {
   "cell_type": "code",
   "execution_count": 7,
   "id": "264cc0ee",
   "metadata": {},
   "outputs": [
    {
     "data": {
      "text/plain": [
       "(200, 1, 61, 1000)"
      ]
     },
     "execution_count": 7,
     "metadata": {},
     "output_type": "execute_result"
    }
   ],
   "source": [
    "data_path = '../Data/'\n",
    "folder_path = 'ica_rest_close/'\n",
    "output_path = '../Output/' + folder_path\n",
    "if not os.path.exists(output_path):\n",
    "    os.makedirs(output_path)\n",
    "id = 0\n",
    "id_name = f'{id:03d}'  # Format id as three digits\n",
    "# id_name ='_all'\n",
    "file_name = f's{id_name}.npy'\n",
    "data_close  = np.load(os.path.join(data_path, folder_path, file_name))\n",
    "data_close.shape"
   ]
  },
  {
   "cell_type": "code",
   "execution_count": 8,
   "id": "af3c71f1",
   "metadata": {},
   "outputs": [
    {
     "data": {
      "text/plain": [
       "(200, 1, 61, 1000)"
      ]
     },
     "execution_count": 8,
     "metadata": {},
     "output_type": "execute_result"
    }
   ],
   "source": [
    "folder_path = 'ica_rest_open/'\n",
    "\n",
    "data_open = np.load(os.path.join(data_path, folder_path, file_name))\n",
    "data_open.shape"
   ]
  },
  {
   "cell_type": "code",
   "execution_count": 17,
   "id": "b22bc3e6",
   "metadata": {},
   "outputs": [],
   "source": [
    "# check if same data of data_close[0][0, 0, :] in data_open[i][0, 0, :]\n",
    "for i in range(data_open.shape[0]):\n",
    "    if  np.array_equal(data_close[0, 0, 0, :], data_open[i, 0, 0, :]):\n",
    "        print(f'Data same at index {i}')\n",
    "    "
   ]
  },
  {
   "cell_type": "code",
   "execution_count": null,
   "id": "cfe464df",
   "metadata": {},
   "outputs": [],
   "source": []
  }
 ],
 "metadata": {
  "kernelspec": {
   "display_name": ".venv",
   "language": "python",
   "name": "python3"
  },
  "language_info": {
   "codemirror_mode": {
    "name": "ipython",
    "version": 3
   },
   "file_extension": ".py",
   "mimetype": "text/x-python",
   "name": "python",
   "nbconvert_exporter": "python",
   "pygments_lexer": "ipython3",
   "version": "3.11.9"
  }
 },
 "nbformat": 4,
 "nbformat_minor": 5
}
